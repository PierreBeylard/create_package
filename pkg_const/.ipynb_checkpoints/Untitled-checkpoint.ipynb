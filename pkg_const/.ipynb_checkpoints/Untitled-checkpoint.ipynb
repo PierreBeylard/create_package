{
 "cells": [
  {
   "cell_type": "code",
   "execution_count": 41,
   "id": "493180a2",
   "metadata": {},
   "outputs": [],
   "source": [
    "import subprocess\n",
    "import os\n",
    "import sys"
   ]
  },
  {
   "cell_type": "code",
   "execution_count": 22,
   "id": "c345ebc6",
   "metadata": {},
   "outputs": [
    {
     "data": {
      "text/plain": [
       "CompletedProcess(args=['touch', 'mon_fichier.txt'], returncode=0)"
      ]
     },
     "execution_count": 22,
     "metadata": {},
     "output_type": "execute_result"
    }
   ],
   "source": [
    "subprocess.run([\"touch\",\"mon_fichier.txt\"])"
   ]
  },
  {
   "cell_type": "code",
   "execution_count": 30,
   "id": "714a5774",
   "metadata": {},
   "outputs": [
    {
     "data": {
      "text/plain": [
       "CompletedProcess(args=[\"echo 'ceci est un input' >> mon_fichier.txt\"], returncode=0)"
      ]
     },
     "execution_count": 30,
     "metadata": {},
     "output_type": "execute_result"
    }
   ],
   "source": [
    "subprocess.run([\"echo 'ceci est un input' >> mon_fichier.txt\"],shell=True,encoding='utf-8')"
   ]
  },
  {
   "cell_type": "code",
   "execution_count": 45,
   "id": "dd1c892a",
   "metadata": {},
   "outputs": [
    {
     "name": "stderr",
     "output_type": "stream",
     "text": [
      "/bin/sh: 1: read: arg count\n"
     ]
    },
    {
     "data": {
      "text/plain": [
       "CompletedProcess(args=['read'], returncode=2)"
      ]
     },
     "execution_count": 45,
     "metadata": {},
     "output_type": "execute_result"
    }
   ],
   "source": [
    "subprocess.run(['read'],shell=True)"
   ]
  },
  {
   "cell_type": "code",
   "execution_count": 46,
   "id": "cb603a55",
   "metadata": {},
   "outputs": [
    {
     "data": {
      "text/plain": [
       "'foofoo\\n'"
      ]
     },
     "execution_count": 46,
     "metadata": {},
     "output_type": "execute_result"
    }
   ],
   "source": [
    "cmd = ['awk', 'length($0) > 5']\n",
    "ip = 'foo\\nfoofoo\\n'.encode('utf-8')\n",
    "result = subprocess.run(cmd, stdout=subprocess.PIPE, input=ip)\n",
    "result.stdout.decode('utf-8')"
   ]
  },
  {
   "cell_type": "code",
   "execution_count": 39,
   "id": "ee5a973d",
   "metadata": {},
   "outputs": [
    {
     "data": {
      "text/plain": [
       "['mon_fichier.txt']"
      ]
     },
     "execution_count": 39,
     "metadata": {},
     "output_type": "execute_result"
    }
   ],
   "source": [
    "text.args"
   ]
  },
  {
   "cell_type": "code",
   "execution_count": null,
   "id": "156fbb8b",
   "metadata": {},
   "outputs": [],
   "source": []
  }
 ],
 "metadata": {
  "kernelspec": {
   "display_name": "Python 3 (ipykernel)",
   "language": "python",
   "name": "python3"
  },
  "language_info": {
   "codemirror_mode": {
    "name": "ipython",
    "version": 3
   },
   "file_extension": ".py",
   "mimetype": "text/x-python",
   "name": "python",
   "nbconvert_exporter": "python",
   "pygments_lexer": "ipython3",
   "version": "3.8.6"
  },
  "toc": {
   "base_numbering": 1,
   "nav_menu": {},
   "number_sections": true,
   "sideBar": true,
   "skip_h1_title": false,
   "title_cell": "Table of Contents",
   "title_sidebar": "Contents",
   "toc_cell": false,
   "toc_position": {},
   "toc_section_display": true,
   "toc_window_display": false
  }
 },
 "nbformat": 4,
 "nbformat_minor": 5
}
